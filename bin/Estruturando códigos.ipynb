{
 "cells": [
  {
   "cell_type": "markdown",
   "id": "f7f25da9",
   "metadata": {},
   "source": [
    "# Etapas\n",
    "\n",
    "__Objetivo__\n",
    "\n",
    "Replicar os experimentos de CITAR ARTIGO. Onde os autores propõe um algoritmo de GNN para gerar imagens artificiais de impressões digitais. Para isso, duas redes neurais convolutivas adversárias foram criadas, uma __generativa__ e a outra __descriminativa__.\n",
    "\n",
    "__Parâmetros da rede generativa__\n",
    "\n",
    "...\n",
    "\n",
    "__Parâmetros da rede descriminativa__\n",
    "\n",
    "...\n",
    "\n",
    "# <font color='red'>!!! ATENÇÃO !!!</font>\n",
    "\n",
    "Estamos com dificuldades para baixar as bases utilizada no experimento, portanto, devemos procurar uma base de dados alternativa e fazer o código de maneira mais genérica possível."
   ]
  },
  {
   "cell_type": "markdown",
   "id": "0fe5c88a",
   "metadata": {},
   "source": [
    "__Passo a passo__\n",
    "\n",
    "Fonte: https://github.com/glauberiano/coursera-deep-learning-specialization/tree/master/C4%20-%20Convolutional%20Neural%20Networks/Notes\n",
    "\n",
    "__Convolutions over volumes__\n",
    "\n",
    "We see how convolution works with 2D images, now lets see if we want to convolve 3D images (RGB image)\n",
    "\n",
    "We will convolve an image of height, width, # of channels with a filter of a height, width, same # of channels. Hint that the image number channels and the filter number of channels are the same.\n",
    "\n",
    "We can call this as stacked filters for each channel!\n",
    "\n",
    "Example:\n",
    "- Input image: 6x6x3\n",
    "- Filter: 3x3x3\n",
    "- Result image: 4x4x1\n",
    "- In the last result p=0, s=1\n",
    "\n",
    "Hint the output here is only 2D.\n",
    "\n",
    "We can use multiple filters to detect multiple features or edges. Example.\n",
    "- Input image: 6x6x3\n",
    "- 10 Filters: 3x3x3\n",
    "- Result image: 4x4x10\n",
    "- In the last result p=0, s=1\n",
    "\n",
    "__One Layer of a Convolutional Network__\n",
    "\n",
    "First we convolve some filters to a given input and then add a bias to each filter output and then get RELU of the result. Example:\n",
    "\n",
    "- Input image: 6x6x3 # a0  \n",
    "- 10 Filters: 3x3x3 #W1  \n",
    "- Result image: 4x4x10 #W1a0  \n",
    "- Add b (bias) with 10x1 will get us : 4x4x10 image #W1a0 + b\n",
    "- Apply RELU will get us: 4x4x10 image #A1 = RELU(W1a0 + b)\n",
    "- In the last result p=0, s=1\n",
    "- Hint number of parameters here are: (3x3x3x10) + 10 = 280\n",
    "\n",
    "The last example forms a layer in the CNN.\n",
    "\n",
    "Hint: no matter the size of the input, the number of the parameters is same if filter size is same. That makes it less prone to overfitting.\n",
    "\n",
    "Here are some notations we will use. If layer l is a conv layer:\n",
    "\n",
    "```\n",
    "Hyperparameters\n",
    "f[l] = filter size\n",
    "p[l] = padding\t# Default is zero\n",
    "s[l] = stride\n",
    "nc[l] = number of filters\n",
    "\n",
    "Input:  n[l-1] x n[l-1] x nc[l-1]\tOr\t nH[l-1] x nW[l-1] x nc[l-1]\n",
    "Output: n[l] x n[l] x nc[l]\tOr\t nH[l] x nW[l] x nc[l]\n",
    "Where n[l] = (n[l-1] + 2p[l] - f[l] / s[l]) + 1\n",
    "\n",
    "Each filter is: f[l] x f[l] x nc[l-1]\n",
    "\n",
    "Activations: a[l] is nH[l] x nW[l] x nc[l]\n",
    "\t\t     A[l] is m x nH[l] x nW[l] x nc[l]   # In batch or minbatch training\n",
    "\t\t     \n",
    "Weights: f[l] * f[l] * nc[l-1] * nc[l]\n",
    "bias:  (1, 1, 1, nc[l])\n",
    "```"
   ]
  },
  {
   "cell_type": "markdown",
   "id": "e3f02001",
   "metadata": {},
   "source": []
  },
  {
   "cell_type": "code",
   "execution_count": null,
   "id": "118e4bb6",
   "metadata": {},
   "outputs": [],
   "source": [
    "\n"
   ]
  },
  {
   "cell_type": "code",
   "execution_count": null,
   "id": "a1c61b64",
   "metadata": {},
   "outputs": [],
   "source": []
  }
 ],
 "metadata": {
  "kernelspec": {
   "display_name": "Python 3",
   "language": "python",
   "name": "python3"
  },
  "language_info": {
   "codemirror_mode": {
    "name": "ipython",
    "version": 3
   },
   "file_extension": ".py",
   "mimetype": "text/x-python",
   "name": "python",
   "nbconvert_exporter": "python",
   "pygments_lexer": "ipython3",
   "version": "3.8.10"
  }
 },
 "nbformat": 4,
 "nbformat_minor": 5
}

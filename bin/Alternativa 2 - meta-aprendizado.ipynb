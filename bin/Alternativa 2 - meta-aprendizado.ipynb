{
 "cells": [
  {
   "cell_type": "markdown",
   "id": "c03bab5a",
   "metadata": {},
   "source": [
    "__Áreas__\n",
    "\n",
    "- Sistemas recomendação de algoritmos\n",
    "- Planejamento de componentes de um KDD\n",
    "- Algoritmos de ensamble\n",
    "- Aprendizado em fluxo de dados\n",
    "- Tranferência de conhecimento ou meta-conhecimento\n",
    "\n",
    "__Possíveis artigos__\n",
    "\n",
    "- ML Toolbox\n",
    "- StatLog\n",
    "- Metal\n",
    "- MiningMart\n",
    "\n",
    "__Algoritmos de sistemas de recomendação__\n",
    "\n",
    "- k-Nearest Neighbors Ranking Method\n",
    "\n",
    "\n",
    "__Meta-level learning__\n",
    "\n",
    "1. Target metafeature\n",
    "    * Best algorithm in a set (B.A.)\n",
    "    * subset of algorithm (S.A.)\n",
    "    * ranking of algorithms (R.A.)\n",
    "        * L. Todorovski, H. Blockeel, and S. Dˇzeroski. Ranking with predictive clustering trees. In T. Elomaa, H. Mannila, and H. Toivonen, editors, Proc. of the 13th European Conf. on Machine Learning, number 2430 in LNAI, pages 444–455. Springer-Verlag, 2002.\n",
    "        * H. Blockeel, L. De Raedt, and J. Ramon. Top-down induction of clustering trees. In ICML ’98: Proceedings of the Fifteenth International Conference on Machine Learning, pages 55–63, San Francisco, CA, USA, 1998. Morgan Kaufmann Publishers Inc.\n",
    "    * estimated performance of algorithms (E.P.A.)\n",
    "        *  R. Leite and P. Brazdil. Predicting relative performance of classifiers from samples. In ICML ’05: Proceedings of the 22nd International Conference on Machine Learning, pages 497–503, NY, USA, 2005. ACM Press.\n",
    "        * R. Leite and P. Brazdil. An iterative process for building learning curves and predicting relative performance of classifiers. In Proceedings of the 13th Portuguese Conference on Artificial Intelligence (EPIA2007), pages 87–98, 2007.\n",
    "\n",
    "2. Metalearning algorithm\n",
    "\n",
    "- A. Kalousis. Algorithm Selection via Meta-Learning. PhD thesis, University of Geneva, Department of Computer Science, 2002.\n",
    "- A. Kalousis, J. Gama, and M. Hilario. On data and algorithms: Understanding inductive performance. Machine Learning, 54(3):275–312, 2004.\n",
    "- A. Kalousis and M. Hilario. Model selection via meta-learning: A comparativestudy. In Proceedings of the 12th International IEEE Conference on Tools with AI. IEEE Press, 2000.\n",
    "\n",
    "\n"
   ]
  },
  {
   "cell_type": "markdown",
   "id": "b2a6ba27",
   "metadata": {},
   "source": [
    "__Dinamicas da digitação__\n",
    "\n",
    "S. Cho, C. Han, D. H. Han, and H. Kim. Web-based\n",
    "keystroke dynamics identity verification using neural net-\n",
    "work. Journal of Organizational Computing and Electronic\n",
    "Commerce, 10(4):295–307, 2000.\n",
    "\n",
    "R. O. Duda, P. E. Hart, and D. G. Stork. Pattern Classifica-\n",
    "tion. John Wiley & Sons, Inc., second edition, 2001.\n",
    "\n",
    "S. Haider, A. Abbas, and A. K. Zaidi. A multi-technique\n",
    "approach for user identification through keystroke dynam-\n",
    "ics. IEEE International Conference on Systems, Man and\n",
    "Cybernetics, pages 1336–1341, 2000.\n",
    "\n",
    "B. Hwang and S. Cho. Characteristics of auto-associative\n",
    "MLP as a novelty detector. In Proceedings of the IEEE In-\n",
    "ternational Joint Conference on Neural Networks, volume 5,\n",
    "pages 3086–3091, 10–16 July, 1999, Washington, DC, 1999.\n"
   ]
  },
  {
   "cell_type": "markdown",
   "id": "42e9f40d",
   "metadata": {},
   "source": []
  },
  {
   "cell_type": "code",
   "execution_count": null,
   "id": "d980150a",
   "metadata": {},
   "outputs": [],
   "source": []
  }
 ],
 "metadata": {
  "kernelspec": {
   "display_name": "Python 3",
   "language": "python",
   "name": "python3"
  },
  "language_info": {
   "codemirror_mode": {
    "name": "ipython",
    "version": 3
   },
   "file_extension": ".py",
   "mimetype": "text/x-python",
   "name": "python",
   "nbconvert_exporter": "python",
   "pygments_lexer": "ipython3",
   "version": "3.8.10"
  }
 },
 "nbformat": 4,
 "nbformat_minor": 5
}

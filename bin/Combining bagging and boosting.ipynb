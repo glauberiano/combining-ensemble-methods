{
 "cells": [
  {
   "cell_type": "markdown",
   "id": "8b188de7",
   "metadata": {},
   "source": [
    "# Parte 1: Replicando experimentos de ...."
   ]
  },
  {
   "cell_type": "markdown",
   "id": "15106a32",
   "metadata": {},
   "source": [
    "__Proposta:__ For additional improvement of the prediction of a classifier, we suggest combing bagging and boosting methodology with sum rule voting (Vote B&B)\n",
    "\n",
    "__Metodologia__:  In order to calculate the classifiers’ accuracy, the whole training set was divided into ten mutually exclusive and equal-sized subsets and for each subset the classifier was trained on the union of all of the other subsets. Then, cross validation was run 10 times for each algorithm and the median value of the 10-cross validations was calculated.\n",
    "\n",
    "__Bases de dados__: we used 36 well-known datasets mainly from many domains from the UCI repository.  we \n",
    "have used data sets from the domains of: pattern recognition (anneal, iris, mushroom, zoo), image recognition (ionosphere, sonar), medical diagnosis (breast-cancer, breast-w, colic, diabetes, heart-c, heart-h, heart-statlog, hepatitis, lymphotherapy, primary-tumor) commodity trading (autos, credit-g) music composition (waveform), computer games (kr-vs-kp, monk1, monk2), various control applications (balance), language morphological analysis (dimin) [9] and prediction of student dropout (student) [10].\n",
    "\n",
    "__sum rule voting:__ When the sum rule is used each sub-ensemble has to give a confidence value for each \n",
    "candidate. In our algorithm, voters express the degree of their preference using as confidence score the probabilities of sub-ensemble prediction. Next all confidence values are added for each candidate and the candidate with the highest sum wins the election.\n",
    "\n",
    "__sub-ensembles:__\n",
    "\n",
    "__sub-classifiers:__ We used 10 sub-classifiers for each sub-ensemble for the proposed algorithm. "
   ]
  },
  {
   "cell_type": "code",
   "execution_count": 23,
   "id": "b3aa0770",
   "metadata": {},
   "outputs": [],
   "source": [
    "import pandas as pd\n",
    "import numpy as np\n",
    "import sys\n",
    "np.set_printoptions(threshold=sys.maxsize)\n",
    "\n",
    "from sklearn.model_selection import KFold\n",
    "from sklearn.tree import DecisionTreeClassifier\n",
    "from sklearn.ensemble import RandomForestClassifier, AdaBoostClassifier\n",
    "from sklearn.metrics import accuracy_score"
   ]
  },
  {
   "cell_type": "markdown",
   "id": "6779cae3",
   "metadata": {},
   "source": [
    "## Dataset: waveform"
   ]
  },
  {
   "cell_type": "code",
   "execution_count": 2,
   "id": "5320cf8a",
   "metadata": {
    "scrolled": true
   },
   "outputs": [
    {
     "name": "stdout",
     "output_type": "stream",
     "text": [
      "(5000, 22)\n",
      "2    1696\n",
      "0    1657\n",
      "1    1647\n",
      "Name: TARGET, dtype: int64\n"
     ]
    },
    {
     "data": {
      "text/html": [
       "<div>\n",
       "<style scoped>\n",
       "    .dataframe tbody tr th:only-of-type {\n",
       "        vertical-align: middle;\n",
       "    }\n",
       "\n",
       "    .dataframe tbody tr th {\n",
       "        vertical-align: top;\n",
       "    }\n",
       "\n",
       "    .dataframe thead th {\n",
       "        text-align: right;\n",
       "    }\n",
       "</style>\n",
       "<table border=\"1\" class=\"dataframe\">\n",
       "  <thead>\n",
       "    <tr style=\"text-align: right;\">\n",
       "      <th></th>\n",
       "      <th>0</th>\n",
       "      <th>1</th>\n",
       "      <th>2</th>\n",
       "      <th>3</th>\n",
       "      <th>4</th>\n",
       "      <th>5</th>\n",
       "      <th>6</th>\n",
       "      <th>7</th>\n",
       "      <th>8</th>\n",
       "      <th>9</th>\n",
       "      <th>...</th>\n",
       "      <th>12</th>\n",
       "      <th>13</th>\n",
       "      <th>14</th>\n",
       "      <th>15</th>\n",
       "      <th>16</th>\n",
       "      <th>17</th>\n",
       "      <th>18</th>\n",
       "      <th>19</th>\n",
       "      <th>20</th>\n",
       "      <th>TARGET</th>\n",
       "    </tr>\n",
       "  </thead>\n",
       "  <tbody>\n",
       "    <tr>\n",
       "      <th>0</th>\n",
       "      <td>-1.23</td>\n",
       "      <td>-1.56</td>\n",
       "      <td>-1.75</td>\n",
       "      <td>-0.28</td>\n",
       "      <td>0.60</td>\n",
       "      <td>2.22</td>\n",
       "      <td>0.85</td>\n",
       "      <td>0.21</td>\n",
       "      <td>-0.20</td>\n",
       "      <td>0.89</td>\n",
       "      <td>...</td>\n",
       "      <td>2.89</td>\n",
       "      <td>7.75</td>\n",
       "      <td>4.59</td>\n",
       "      <td>3.15</td>\n",
       "      <td>5.12</td>\n",
       "      <td>3.32</td>\n",
       "      <td>1.20</td>\n",
       "      <td>0.24</td>\n",
       "      <td>-0.56</td>\n",
       "      <td>2</td>\n",
       "    </tr>\n",
       "    <tr>\n",
       "      <th>1</th>\n",
       "      <td>-0.69</td>\n",
       "      <td>2.43</td>\n",
       "      <td>0.61</td>\n",
       "      <td>2.08</td>\n",
       "      <td>2.30</td>\n",
       "      <td>3.25</td>\n",
       "      <td>5.52</td>\n",
       "      <td>4.55</td>\n",
       "      <td>2.97</td>\n",
       "      <td>2.22</td>\n",
       "      <td>...</td>\n",
       "      <td>1.24</td>\n",
       "      <td>1.89</td>\n",
       "      <td>1.88</td>\n",
       "      <td>-1.34</td>\n",
       "      <td>0.83</td>\n",
       "      <td>1.41</td>\n",
       "      <td>1.78</td>\n",
       "      <td>0.60</td>\n",
       "      <td>2.42</td>\n",
       "      <td>1</td>\n",
       "    </tr>\n",
       "    <tr>\n",
       "      <th>2</th>\n",
       "      <td>-0.12</td>\n",
       "      <td>-0.94</td>\n",
       "      <td>1.29</td>\n",
       "      <td>2.59</td>\n",
       "      <td>2.42</td>\n",
       "      <td>3.55</td>\n",
       "      <td>4.94</td>\n",
       "      <td>3.25</td>\n",
       "      <td>1.90</td>\n",
       "      <td>2.07</td>\n",
       "      <td>...</td>\n",
       "      <td>2.50</td>\n",
       "      <td>0.12</td>\n",
       "      <td>1.41</td>\n",
       "      <td>2.78</td>\n",
       "      <td>0.64</td>\n",
       "      <td>0.62</td>\n",
       "      <td>-0.01</td>\n",
       "      <td>-0.79</td>\n",
       "      <td>-0.12</td>\n",
       "      <td>0</td>\n",
       "    </tr>\n",
       "    <tr>\n",
       "      <th>3</th>\n",
       "      <td>0.86</td>\n",
       "      <td>0.29</td>\n",
       "      <td>2.19</td>\n",
       "      <td>-0.02</td>\n",
       "      <td>1.13</td>\n",
       "      <td>2.51</td>\n",
       "      <td>2.37</td>\n",
       "      <td>5.45</td>\n",
       "      <td>5.45</td>\n",
       "      <td>4.84</td>\n",
       "      <td>...</td>\n",
       "      <td>2.58</td>\n",
       "      <td>1.40</td>\n",
       "      <td>1.24</td>\n",
       "      <td>1.41</td>\n",
       "      <td>1.07</td>\n",
       "      <td>-1.43</td>\n",
       "      <td>2.84</td>\n",
       "      <td>-1.18</td>\n",
       "      <td>1.12</td>\n",
       "      <td>1</td>\n",
       "    </tr>\n",
       "    <tr>\n",
       "      <th>4</th>\n",
       "      <td>1.16</td>\n",
       "      <td>0.37</td>\n",
       "      <td>0.40</td>\n",
       "      <td>-0.59</td>\n",
       "      <td>2.66</td>\n",
       "      <td>1.00</td>\n",
       "      <td>2.69</td>\n",
       "      <td>4.06</td>\n",
       "      <td>5.34</td>\n",
       "      <td>3.53</td>\n",
       "      <td>...</td>\n",
       "      <td>4.30</td>\n",
       "      <td>1.84</td>\n",
       "      <td>1.73</td>\n",
       "      <td>0.21</td>\n",
       "      <td>-0.18</td>\n",
       "      <td>0.13</td>\n",
       "      <td>-0.21</td>\n",
       "      <td>-0.80</td>\n",
       "      <td>-0.68</td>\n",
       "      <td>1</td>\n",
       "    </tr>\n",
       "  </tbody>\n",
       "</table>\n",
       "<p>5 rows × 22 columns</p>\n",
       "</div>"
      ],
      "text/plain": [
       "      0     1     2     3     4     5     6     7     8     9  ...    12  \\\n",
       "0 -1.23 -1.56 -1.75 -0.28  0.60  2.22  0.85  0.21 -0.20  0.89  ...  2.89   \n",
       "1 -0.69  2.43  0.61  2.08  2.30  3.25  5.52  4.55  2.97  2.22  ...  1.24   \n",
       "2 -0.12 -0.94  1.29  2.59  2.42  3.55  4.94  3.25  1.90  2.07  ...  2.50   \n",
       "3  0.86  0.29  2.19 -0.02  1.13  2.51  2.37  5.45  5.45  4.84  ...  2.58   \n",
       "4  1.16  0.37  0.40 -0.59  2.66  1.00  2.69  4.06  5.34  3.53  ...  4.30   \n",
       "\n",
       "     13    14    15    16    17    18    19    20  TARGET  \n",
       "0  7.75  4.59  3.15  5.12  3.32  1.20  0.24 -0.56       2  \n",
       "1  1.89  1.88 -1.34  0.83  1.41  1.78  0.60  2.42       1  \n",
       "2  0.12  1.41  2.78  0.64  0.62 -0.01 -0.79 -0.12       0  \n",
       "3  1.40  1.24  1.41  1.07 -1.43  2.84 -1.18  1.12       1  \n",
       "4  1.84  1.73  0.21 -0.18  0.13 -0.21 -0.80 -0.68       1  \n",
       "\n",
       "[5 rows x 22 columns]"
      ]
     },
     "execution_count": 2,
     "metadata": {},
     "output_type": "execute_result"
    }
   ],
   "source": [
    "dataset = pd.read_csv(\"../data/waveform.data\",header=None)\n",
    "#dataset.columns[-1] = 'TARGET'\n",
    "dataset = dataset.rename(columns={dataset.columns[-1]: 'TARGET'})\n",
    "\n",
    "print(dataset.shape)\n",
    "print(dataset['TARGET'].value_counts())\n",
    "\n",
    "dataset.head()"
   ]
  },
  {
   "cell_type": "markdown",
   "id": "325e0b73",
   "metadata": {},
   "source": [
    "## Modelos"
   ]
  },
  {
   "cell_type": "code",
   "execution_count": 3,
   "id": "4b8db555",
   "metadata": {},
   "outputs": [],
   "source": [
    "def evaluate(dataset, model, model_name, params={}):\n",
    "    results = dict()\n",
    "\n",
    "    scores = list()\n",
    "    splits = KFold(n_splits=10).split(dataset)\n",
    "\n",
    "    for i, (train_idx, test_idx) in enumerate(splits):\n",
    "        print(f\"Fold {i+1}/10\")\n",
    "        X_train = dataset.iloc[train_idx,~dataset.columns.isin([\"TARGET\"])]\n",
    "        X_test = dataset.iloc[test_idx,~dataset.columns.isin([\"TARGET\"])]\n",
    "\n",
    "        y_train = np.ravel(dataset.iloc[train_idx].loc[:,\"TARGET\"])\n",
    "        y_test = np.ravel(dataset.iloc[test_idx].loc[:,\"TARGET\"])\n",
    "\n",
    "        clf = model(**params)\n",
    "        clf.fit(X_train, y_train)\n",
    "        y_pred = clf.predict(X_test)\n",
    "        scores.append(accuracy_score(y_test, y_pred))\n",
    "    results[model_name] = scores\n",
    "    return results"
   ]
  },
  {
   "cell_type": "code",
   "execution_count": 62,
   "id": "20a936ee",
   "metadata": {},
   "outputs": [
    {
     "name": "stdout",
     "output_type": "stream",
     "text": [
      "Fold 1/10\n",
      "Fold 2/10\n",
      "Fold 3/10\n",
      "Fold 4/10\n",
      "Fold 5/10\n",
      "Fold 6/10\n",
      "Fold 7/10\n",
      "Fold 8/10\n",
      "Fold 9/10\n",
      "Fold 10/10\n"
     ]
    }
   ],
   "source": [
    "res_decisiontree = evaluate(dataset, \n",
    "                            DecisionTreeClassifier, \n",
    "                            'DecisionTree', \n",
    "                            {'max_depth' : np.sqrt(X_train.shape[1])})"
   ]
  },
  {
   "cell_type": "code",
   "execution_count": 53,
   "id": "97ed84c5",
   "metadata": {},
   "outputs": [
    {
     "name": "stdout",
     "output_type": "stream",
     "text": [
      "Fold 1/10\n",
      "Fold 2/10\n",
      "Fold 3/10\n",
      "Fold 4/10\n",
      "Fold 5/10\n",
      "Fold 6/10\n",
      "Fold 7/10\n",
      "Fold 8/10\n",
      "Fold 9/10\n",
      "Fold 10/10\n"
     ]
    }
   ],
   "source": [
    "res_randomforest = evaluate(dataset, \n",
    "                            RandomForestClassifier, \n",
    "                            'RandomForest', \n",
    "                            {'n_estimators' : 25, 'max_depth' : np.sqrt(X_train.shape[1])})"
   ]
  },
  {
   "cell_type": "code",
   "execution_count": 57,
   "id": "79b6664e",
   "metadata": {},
   "outputs": [
    {
     "name": "stdout",
     "output_type": "stream",
     "text": [
      "Fold 1/10\n",
      "Fold 2/10\n",
      "Fold 3/10\n",
      "Fold 4/10\n",
      "Fold 5/10\n",
      "Fold 6/10\n",
      "Fold 7/10\n",
      "Fold 8/10\n",
      "Fold 9/10\n",
      "Fold 10/10\n"
     ]
    }
   ],
   "source": [
    "res_adaboost = evaluate(dataset, \n",
    "                        AdaBoostClassifier, \n",
    "                        'Adaboost', \n",
    "                        {\n",
    "                            'n_estimators' : 25, \n",
    "                            'base_estimator' : DecisionTreeClassifier(max_depth=np.sqrt(X_train.shape[1]))\n",
    "                        })"
   ]
  },
  {
   "cell_type": "code",
   "execution_count": null,
   "id": "e4c4775b",
   "metadata": {},
   "outputs": [],
   "source": []
  },
  {
   "cell_type": "code",
   "execution_count": 59,
   "id": "f1bda67c",
   "metadata": {},
   "outputs": [],
   "source": [
    "def evaluate_bb(dataset):\n",
    "    results = dict()\n",
    "\n",
    "    scores = list()\n",
    "    splits = KFold(n_splits=10).split(dataset)\n",
    "\n",
    "    for i, (train_idx, test_idx) in enumerate(splits):\n",
    "        print(f\"Fold {i+1}/10\")\n",
    "        \n",
    "        probs_1 = list()\n",
    "        probs_2 = list()\n",
    "    \n",
    "        X_train = dataset.iloc[train_idx,~dataset.columns.isin([\"TARGET\"])]\n",
    "        X_test = dataset.iloc[test_idx,~dataset.columns.isin([\"TARGET\"])]\n",
    "\n",
    "        y_train = np.ravel(dataset.iloc[train_idx].loc[:,\"TARGET\"])\n",
    "        y_test = np.ravel(dataset.iloc[test_idx].loc[:,\"TARGET\"])\n",
    "\n",
    "        # Modelo Bagging : Random forest\n",
    "        modelo_rf = RandomForestClassifier(n_estimators=10, \n",
    "                                           max_depth=np.sqrt(X_train.shape[1]))\n",
    "        modelo_rf.fit(X_train, y_train)\n",
    "\n",
    "        for i in range(modelo_rf.n_estimators):\n",
    "            prob = modelo_rf.estimators_[i].predict_proba(X_test)\n",
    "            probs_1.append(prob)\n",
    "\n",
    "        # Modelo boosting : Ada boost\n",
    "        modelo_ada = AdaBoostClassifier(n_estimators=10, \n",
    "                                        base_estimator=DecisionTreeClassifier(max_depth=np.sqrt(X_train.shape[1])))\n",
    "        modelo_ada.fit(X_train, y_train)\n",
    "\n",
    "        for i in range(modelo_ada.n_estimators):\n",
    "            prob = modelo_ada.estimators_[i].predict_proba(X_test)\n",
    "            probs_2.append(prob)\n",
    "\n",
    "        # Sum rule vote\n",
    "        total_probs = probs_1 + probs_2\n",
    "        baselearner_matrix = np.sum(total_probs, axis=0)\n",
    "        y_pred = np.argmax(baselearner_matrix,axis=1)\n",
    "\n",
    "        # Metrics\n",
    "        scores.append(accuracy_score(y_test, y_pred))\n",
    "    results['vote_B&B'] = scores\n",
    "    return results"
   ]
  },
  {
   "cell_type": "code",
   "execution_count": 60,
   "id": "709d076f",
   "metadata": {},
   "outputs": [
    {
     "name": "stdout",
     "output_type": "stream",
     "text": [
      "Fold 1/10\n",
      "Fold 2/10\n",
      "Fold 3/10\n",
      "Fold 4/10\n",
      "Fold 5/10\n",
      "Fold 6/10\n",
      "Fold 7/10\n",
      "Fold 8/10\n",
      "Fold 9/10\n",
      "Fold 10/10\n"
     ]
    }
   ],
   "source": [
    "res_voteBB = evaluate_bb(dataset)"
   ]
  },
  {
   "cell_type": "code",
   "execution_count": null,
   "id": "aad368d1",
   "metadata": {},
   "outputs": [],
   "source": []
  },
  {
   "cell_type": "markdown",
   "id": "e98677ec",
   "metadata": {},
   "source": [
    "__Comparando resultados: base de dados Waveform__"
   ]
  },
  {
   "cell_type": "code",
   "execution_count": 65,
   "id": "4e196dab",
   "metadata": {},
   "outputs": [
    {
     "name": "stdout",
     "output_type": "stream",
     "text": [
      "DecisionTree : 0.7376\n",
      "RandomForest : 0.8222000000000002\n",
      "Adaboot : 0.8246\n",
      "vote B&B : 0.8301999999999999\n"
     ]
    }
   ],
   "source": [
    "print(f\"{'DecisionTree'} : {np.mean(*res_decisiontree.values())}\")\n",
    "print(f\"{'RandomForest'} : {np.mean(*res_randomforest.values())}\")\n",
    "print(f\"{'Adaboot'} : {np.mean(*res_adaboost.values())}\")\n",
    "print(f\"{'vote B&B'} : {np.mean(*res_voteBB.values())}\")"
   ]
  },
  {
   "cell_type": "code",
   "execution_count": null,
   "id": "d873dca6",
   "metadata": {},
   "outputs": [],
   "source": []
  },
  {
   "cell_type": "markdown",
   "id": "f8e9a1b5",
   "metadata": {},
   "source": [
    "# Parte 2: Sugerindo alteração"
   ]
  },
  {
   "cell_type": "markdown",
   "id": "c8fcf4f1",
   "metadata": {},
   "source": [
    "__Opção 1:__ sugerir uma estratégia diferente para a combinação dos ensembles. (Trocar o `Sum rule voting`)\n",
    "\n",
    "__Opção 2:__ utilizar algum algoritmo de redes neurais com base learner para a combinação dos ensembles."
   ]
  },
  {
   "cell_type": "code",
   "execution_count": null,
   "id": "df0ec2af",
   "metadata": {},
   "outputs": [],
   "source": []
  },
  {
   "cell_type": "code",
   "execution_count": null,
   "id": "dee6688b",
   "metadata": {},
   "outputs": [],
   "source": []
  },
  {
   "cell_type": "code",
   "execution_count": null,
   "id": "a30113eb",
   "metadata": {},
   "outputs": [],
   "source": []
  }
 ],
 "metadata": {
  "kernelspec": {
   "display_name": "Python 3",
   "language": "python",
   "name": "python3"
  },
  "language_info": {
   "codemirror_mode": {
    "name": "ipython",
    "version": 3
   },
   "file_extension": ".py",
   "mimetype": "text/x-python",
   "name": "python",
   "nbconvert_exporter": "python",
   "pygments_lexer": "ipython3",
   "version": "3.8.10"
  }
 },
 "nbformat": 4,
 "nbformat_minor": 5
}
